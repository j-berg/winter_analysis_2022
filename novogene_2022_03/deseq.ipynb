{
 "cells": [
  {
   "cell_type": "code",
   "execution_count": 102,
   "id": "1d930a01",
   "metadata": {},
   "outputs": [
    {
     "name": "stdout",
     "output_type": "stream",
     "text": [
      "[1] \"DESeq2 package already installed\"\n",
      "[1] \"apeglm package already installed\"\n",
      "[1] \"biomaRt package already installed\"\n"
     ]
    }
   ],
   "source": [
    "if (!requireNamespace(\"BiocManager\", quietly = TRUE)) {install.packages(\"BiocManager\", repos = \"http://cran.us.r-project.org\")}\n",
    "\n",
    "if (\"DESeq2\" %in% rownames(installed.packages()) == FALSE) {\n",
    "  BiocManager::install(\"DESeq2\", dependencies=c(\"Depends\", \"Imports\", \"LinkingTo\"))\n",
    "} else {\n",
    "  print(\"DESeq2 package already installed\")\n",
    "}\n",
    "\n",
    "if (\"apeglm\" %in% rownames(installed.packages()) == FALSE) {\n",
    "  BiocManager::install(\"apeglm\", dependencies=c(\"Depends\", \"Imports\", \"LinkingTo\"))\n",
    "} else {\n",
    "  print(\"apeglm package already installed\")\n",
    "}\n",
    "\n",
    "if (\"biomaRt\" %in% rownames(installed.packages()) == FALSE) {\n",
    "  BiocManager::install(\"biomaRt\", dependencies=c(\"Depends\", \"Imports\", \"LinkingTo\"))\n",
    "} else {\n",
    "  print(\"biomaRt package already installed\")\n",
    "}\n",
    "\n",
    "library(DESeq2)\n",
    "library(apeglm)\n",
    "library(biomaRt)"
   ]
  },
  {
   "cell_type": "code",
   "execution_count": 7,
   "id": "b1e50bcb",
   "metadata": {},
   "outputs": [
    {
     "data": {
      "text/html": [
       "'C:/Users/jorda/Desktop/projects/winter_analysis_2022'"
      ],
      "text/latex": [
       "'C:/Users/jorda/Desktop/projects/winter\\_analysis\\_2022'"
      ],
      "text/markdown": [
       "'C:/Users/jorda/Desktop/projects/winter_analysis_2022'"
      ],
      "text/plain": [
       "[1] \"C:/Users/jorda/Desktop/projects/winter_analysis_2022\""
      ]
     },
     "metadata": {},
     "output_type": "display_data"
    }
   ],
   "source": [
    "getwd()"
   ]
  },
  {
   "cell_type": "code",
   "execution_count": 73,
   "id": "e5256b0b",
   "metadata": {},
   "outputs": [],
   "source": [
    "DATAFRAME <- \"data\\\\winter_rnaseq_xenografts_count_table.tsv\"\n",
    "INFO <- \"data\\\\winter_2022_xenografts_metadata.txt\""
   ]
  },
  {
   "cell_type": "code",
   "execution_count": 74,
   "id": "fda19f73",
   "metadata": {},
   "outputs": [],
   "source": [
    "# Import counts_data\n",
    "count_table <- read.table(DATAFRAME, sep = '\\t', header = TRUE, row.names = 1, check.names=F)\n",
    "colnames(count_table) <- sub(\"_.*\", \"\", colnames(count_table))\n",
    "\n",
    "# Create conditions dataframe\n",
    "sample_table <- read.table(text = readLines(INFO, warn = FALSE), header = TRUE, sep = '\\t')"
   ]
  },
  {
   "cell_type": "code",
   "execution_count": 75,
   "id": "f232741c",
   "metadata": {},
   "outputs": [],
   "source": [
    "conditions <- list(\n",
    "    \"NT_Sal\",\n",
    "    \"NT_BTZ\",\n",
    "    \"ATAD1_Sal\",\n",
    "    \"ATAD1_BTZ\")"
   ]
  },
  {
   "cell_type": "code",
   "execution_count": 103,
   "id": "b8526d75",
   "metadata": {},
   "outputs": [],
   "source": [
    "mart <- useMart(biomart = \"ensembl\", dataset = \"hsapiens_gene_ensembl\")"
   ]
  },
  {
   "cell_type": "code",
   "execution_count": 104,
   "id": "c84289fd",
   "metadata": {},
   "outputs": [
    {
     "name": "stderr",
     "output_type": "stream",
     "text": [
      "\n",
      "Batch submitting query [=>-----------------------------]   8% eta:  4m\n",
      "\n",
      "Batch submitting query [====>--------------------------]  15% eta:  3m\n",
      "\n",
      "Batch submitting query [======>------------------------]  23% eta:  3m\n",
      "\n",
      "Batch submitting query [=========>---------------------]  31% eta:  2m\n",
      "\n",
      "Batch submitting query [===========>-------------------]  38% eta:  1m\n",
      "\n",
      "Batch submitting query [=============>-----------------]  46% eta:  1m\n",
      "\n",
      "Batch submitting query [================>--------------]  54% eta: 45s\n",
      "\n",
      "Batch submitting query [==================>------------]  62% eta: 34s\n",
      "\n",
      "Batch submitting query [====================>----------]  69% eta: 27s\n",
      "\n",
      "Batch submitting query [=======================>-------]  77% eta: 20s\n",
      "\n",
      "Batch submitting query [=========================>-----]  85% eta: 13s\n",
      "\n",
      "Batch submitting query [============================>--]  92% eta:  7s\n",
      "                                                                      \n",
      "\n"
     ]
    }
   ],
   "source": [
    "IDs <- getBM(\n",
    "    attributes = c(\"ensembl_gene_id\",\"hgnc_symbol\"),\n",
    "    filters = \"ensembl_gene_id\", \n",
    "    values = rownames(count_table),\n",
    "    mart = mart)"
   ]
  },
  {
   "cell_type": "code",
   "execution_count": 124,
   "id": "a9ab0c08",
   "metadata": {},
   "outputs": [
    {
     "name": "stdout",
     "output_type": "stream",
     "text": [
      "[1] \"Analyzing NT_BTZ vs NT_Sal\"\n"
     ]
    },
    {
     "name": "stderr",
     "output_type": "stream",
     "text": [
      "Warning message in DESeqDataSet(se, design = design, ignoreRank):\n",
      "\"some variables in design formula are characters, converting to factors\"\n",
      "estimating size factors\n",
      "\n",
      "estimating dispersions\n",
      "\n",
      "gene-wise dispersion estimates\n",
      "\n",
      "mean-dispersion relationship\n",
      "\n",
      "final dispersion estimates\n",
      "\n",
      "fitting model and testing\n",
      "\n"
     ]
    },
    {
     "name": "stdout",
     "output_type": "stream",
     "text": [
      "[1] \"Analyzing ATAD1_Sal vs NT_Sal\"\n"
     ]
    },
    {
     "name": "stderr",
     "output_type": "stream",
     "text": [
      "Warning message in DESeqDataSet(se, design = design, ignoreRank):\n",
      "\"some variables in design formula are characters, converting to factors\"\n",
      "estimating size factors\n",
      "\n",
      "estimating dispersions\n",
      "\n",
      "gene-wise dispersion estimates\n",
      "\n",
      "mean-dispersion relationship\n",
      "\n",
      "final dispersion estimates\n",
      "\n",
      "fitting model and testing\n",
      "\n"
     ]
    },
    {
     "name": "stdout",
     "output_type": "stream",
     "text": [
      "[1] \"Analyzing ATAD1_BTZ vs NT_Sal\"\n"
     ]
    },
    {
     "name": "stderr",
     "output_type": "stream",
     "text": [
      "Warning message in DESeqDataSet(se, design = design, ignoreRank):\n",
      "\"some variables in design formula are characters, converting to factors\"\n",
      "estimating size factors\n",
      "\n",
      "estimating dispersions\n",
      "\n",
      "gene-wise dispersion estimates\n",
      "\n",
      "mean-dispersion relationship\n",
      "\n",
      "final dispersion estimates\n",
      "\n",
      "fitting model and testing\n",
      "\n"
     ]
    },
    {
     "name": "stdout",
     "output_type": "stream",
     "text": [
      "[1] \"Analyzing NT_Sal vs NT_BTZ\"\n"
     ]
    },
    {
     "name": "stderr",
     "output_type": "stream",
     "text": [
      "Warning message in DESeqDataSet(se, design = design, ignoreRank):\n",
      "\"some variables in design formula are characters, converting to factors\"\n",
      "estimating size factors\n",
      "\n",
      "estimating dispersions\n",
      "\n",
      "gene-wise dispersion estimates\n",
      "\n",
      "mean-dispersion relationship\n",
      "\n",
      "final dispersion estimates\n",
      "\n",
      "fitting model and testing\n",
      "\n"
     ]
    },
    {
     "name": "stdout",
     "output_type": "stream",
     "text": [
      "[1] \"Analyzing ATAD1_Sal vs NT_BTZ\"\n"
     ]
    },
    {
     "name": "stderr",
     "output_type": "stream",
     "text": [
      "Warning message in DESeqDataSet(se, design = design, ignoreRank):\n",
      "\"some variables in design formula are characters, converting to factors\"\n",
      "estimating size factors\n",
      "\n",
      "estimating dispersions\n",
      "\n",
      "gene-wise dispersion estimates\n",
      "\n",
      "mean-dispersion relationship\n",
      "\n",
      "final dispersion estimates\n",
      "\n",
      "fitting model and testing\n",
      "\n"
     ]
    },
    {
     "name": "stdout",
     "output_type": "stream",
     "text": [
      "[1] \"Analyzing ATAD1_BTZ vs NT_BTZ\"\n"
     ]
    },
    {
     "name": "stderr",
     "output_type": "stream",
     "text": [
      "Warning message in DESeqDataSet(se, design = design, ignoreRank):\n",
      "\"some variables in design formula are characters, converting to factors\"\n",
      "estimating size factors\n",
      "\n",
      "estimating dispersions\n",
      "\n",
      "gene-wise dispersion estimates\n",
      "\n",
      "mean-dispersion relationship\n",
      "\n",
      "final dispersion estimates\n",
      "\n",
      "fitting model and testing\n",
      "\n"
     ]
    },
    {
     "name": "stdout",
     "output_type": "stream",
     "text": [
      "[1] \"Analyzing NT_Sal vs ATAD1_Sal\"\n"
     ]
    },
    {
     "name": "stderr",
     "output_type": "stream",
     "text": [
      "Warning message in DESeqDataSet(se, design = design, ignoreRank):\n",
      "\"some variables in design formula are characters, converting to factors\"\n",
      "estimating size factors\n",
      "\n",
      "estimating dispersions\n",
      "\n",
      "gene-wise dispersion estimates\n",
      "\n",
      "mean-dispersion relationship\n",
      "\n",
      "final dispersion estimates\n",
      "\n",
      "fitting model and testing\n",
      "\n"
     ]
    },
    {
     "name": "stdout",
     "output_type": "stream",
     "text": [
      "[1] \"Analyzing NT_BTZ vs ATAD1_Sal\"\n"
     ]
    },
    {
     "name": "stderr",
     "output_type": "stream",
     "text": [
      "Warning message in DESeqDataSet(se, design = design, ignoreRank):\n",
      "\"some variables in design formula are characters, converting to factors\"\n",
      "estimating size factors\n",
      "\n",
      "estimating dispersions\n",
      "\n",
      "gene-wise dispersion estimates\n",
      "\n",
      "mean-dispersion relationship\n",
      "\n",
      "final dispersion estimates\n",
      "\n",
      "fitting model and testing\n",
      "\n"
     ]
    },
    {
     "name": "stdout",
     "output_type": "stream",
     "text": [
      "[1] \"Analyzing ATAD1_BTZ vs ATAD1_Sal\"\n"
     ]
    },
    {
     "name": "stderr",
     "output_type": "stream",
     "text": [
      "Warning message in DESeqDataSet(se, design = design, ignoreRank):\n",
      "\"some variables in design formula are characters, converting to factors\"\n",
      "estimating size factors\n",
      "\n",
      "estimating dispersions\n",
      "\n",
      "gene-wise dispersion estimates\n",
      "\n",
      "mean-dispersion relationship\n",
      "\n",
      "final dispersion estimates\n",
      "\n",
      "fitting model and testing\n",
      "\n"
     ]
    },
    {
     "name": "stdout",
     "output_type": "stream",
     "text": [
      "[1] \"Analyzing NT_Sal vs ATAD1_BTZ\"\n"
     ]
    },
    {
     "name": "stderr",
     "output_type": "stream",
     "text": [
      "Warning message in DESeqDataSet(se, design = design, ignoreRank):\n",
      "\"some variables in design formula are characters, converting to factors\"\n",
      "estimating size factors\n",
      "\n",
      "estimating dispersions\n",
      "\n",
      "gene-wise dispersion estimates\n",
      "\n",
      "mean-dispersion relationship\n",
      "\n",
      "final dispersion estimates\n",
      "\n",
      "fitting model and testing\n",
      "\n"
     ]
    },
    {
     "name": "stdout",
     "output_type": "stream",
     "text": [
      "[1] \"Analyzing NT_BTZ vs ATAD1_BTZ\"\n"
     ]
    },
    {
     "name": "stderr",
     "output_type": "stream",
     "text": [
      "Warning message in DESeqDataSet(se, design = design, ignoreRank):\n",
      "\"some variables in design formula are characters, converting to factors\"\n",
      "estimating size factors\n",
      "\n",
      "estimating dispersions\n",
      "\n",
      "gene-wise dispersion estimates\n",
      "\n",
      "mean-dispersion relationship\n",
      "\n",
      "final dispersion estimates\n",
      "\n",
      "fitting model and testing\n",
      "\n"
     ]
    },
    {
     "name": "stdout",
     "output_type": "stream",
     "text": [
      "[1] \"Analyzing ATAD1_Sal vs ATAD1_BTZ\"\n"
     ]
    },
    {
     "name": "stderr",
     "output_type": "stream",
     "text": [
      "Warning message in DESeqDataSet(se, design = design, ignoreRank):\n",
      "\"some variables in design formula are characters, converting to factors\"\n",
      "estimating size factors\n",
      "\n",
      "estimating dispersions\n",
      "\n",
      "gene-wise dispersion estimates\n",
      "\n",
      "mean-dispersion relationship\n",
      "\n",
      "final dispersion estimates\n",
      "\n",
      "fitting model and testing\n",
      "\n"
     ]
    }
   ],
   "source": [
    "for (c1 in conditions) {\n",
    "    for (c2 in conditions) {\n",
    "        if (c1 != c2) {\n",
    "            print(paste(\"Analyzing\", c2, \"vs\", c1, sep=\" \"))\n",
    "            OUTPUT <- paste(\"results\\\\\", \"deseq_results_\", c2, \"_vs_\", c1, \".tsv\", sep=\"\")\n",
    "\n",
    "            select_samples <- sample_table[sample_table$Condition == c1 | sample_table$Condition == c2, ]\n",
    "            select_counts <- count_table[select_samples$Sample.names]\n",
    "\n",
    "            # Run DESeq2 analysis on data\n",
    "            dds <- DESeqDataSetFromMatrix(\n",
    "                countData = select_counts,\n",
    "                colData = select_samples,\n",
    "                design = ~ Condition)\n",
    "            dds <- DESeq(dds)\n",
    "            res <- results(dds, contrast=c(\"Condition\", c2, c1))\n",
    "            \n",
    "            # Write output to new file\n",
    "            output_table <- as.data.frame(res)\n",
    "            export_table <- merge(\n",
    "                x = IDs, \n",
    "                y = output_table,\n",
    "                by.x = \"ensembl_gene_id\", \n",
    "                by.y = 0\n",
    "            )\n",
    "            resOrdered <- export_table[order(export_table$padj),]\n",
    "            write.table(as.data.frame(resOrdered), file = OUTPUT, sep = '\\t', row.names = FALSE)\n",
    "        }\n",
    "    }\n",
    "}"
   ]
  },
  {
   "cell_type": "code",
   "execution_count": null,
   "id": "347cd7de",
   "metadata": {},
   "outputs": [],
   "source": []
  }
 ],
 "metadata": {
  "kernelspec": {
   "display_name": "R",
   "language": "R",
   "name": "ir"
  },
  "language_info": {
   "codemirror_mode": "r",
   "file_extension": ".r",
   "mimetype": "text/x-r-source",
   "name": "R",
   "pygments_lexer": "r",
   "version": "4.0.2"
  }
 },
 "nbformat": 4,
 "nbformat_minor": 5
}
